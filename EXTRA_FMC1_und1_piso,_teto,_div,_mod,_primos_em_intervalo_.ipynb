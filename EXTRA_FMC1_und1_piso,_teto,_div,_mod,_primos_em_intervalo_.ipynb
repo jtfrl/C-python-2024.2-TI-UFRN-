{
  "nbformat": 4,
  "nbformat_minor": 0,
  "metadata": {
    "colab": {
      "provenance": [],
      "authorship_tag": "ABX9TyMJKJvIJqfC2R3BNUfeOhP5",
      "include_colab_link": true
    },
    "kernelspec": {
      "name": "python3",
      "display_name": "Python 3"
    },
    "language_info": {
      "name": "python"
    }
  },
  "cells": [
    {
      "cell_type": "markdown",
      "metadata": {
        "id": "view-in-github",
        "colab_type": "text"
      },
      "source": [
        "<a href=\"https://colab.research.google.com/github/jtfrl/C-python-2024.2-TI-UFRN-/blob/main/EXTRA_FMC1_und1_piso%2C_teto%2C_div%2C_mod%2C_primos_em_intervalo_.ipynb\" target=\"_parent\"><img src=\"https://colab.research.google.com/assets/colab-badge.svg\" alt=\"Open In Colab\"/></a>"
      ]
    },
    {
      "cell_type": "markdown",
      "source": [
        "**Códigos por Jefferson Tafarel - Nota extra na unidade 1 em FMC1**"
      ],
      "metadata": {
        "id": "aE0slXSQznk5"
      }
    },
    {
      "cell_type": "code",
      "execution_count": null,
      "metadata": {
        "colab": {
          "base_uri": "https://localhost:8080/"
        },
        "id": "yFNJMlXSfeeq",
        "outputId": "300afdfe-6c6d-4260-d28a-b4c4ec898203"
      },
      "outputs": [
        {
          "output_type": "stream",
          "name": "stdout",
          "text": [
            "PISO E TETO DE NÚMEROS NÃO-INTEIROS\n",
            "\n",
            "Atenção: use ponto em vez de vígula\n",
            "\n",
            "Indique um número em decimal: 66.8\n",
            "\n",
            "\n",
            "Piso do número: 66\n",
            "\n",
            "Teto do número: 67\n",
            "\n"
          ]
        }
      ],
      "source": [
        "import math\n",
        "print(\"PISO E TETO DE NÚMEROS NÃO-INTEIROS\\n\")\n",
        "print(\"Atenção: use ponto em vez de vígula\\n\")\n",
        "num=input(\"Indique um número em decimal: \")\n",
        "print(\"\\n\")\n",
        "try:\n",
        "  num=float(num)\n",
        "  print(f\"Piso do número: {math.floor(num)}\\n\")\n",
        "  print(f\"Teto do número: {math.ceil(num)}\\n\")\n",
        "except ValueError:\n",
        "  print(\"O número não é válido!\")"
      ]
    },
    {
      "cell_type": "code",
      "source": [
        "import math\n",
        "print(\"DIVISÃO E MOD DE NÚMEROS INTEIROS\\n\")\n",
        "print(\"\\n\")\n",
        "try:\n",
        "  num1 = int(input(\"Digite o primeiro número: \"))\n",
        "  print(\"\\n\")\n",
        "  num2 = int(input(\"Digite o segundo número: \"))\n",
        "  print(\"\\n\")\n",
        "  if (num2==0):\n",
        "    raise ValueError(\"O segundo número não pode ser zero.\")\n",
        "  else:\n",
        "    div = num1 / num2\n",
        "    mod = num1 % num2\n",
        "\n",
        "    print(f\"{num1} div {num2}={int(div)}\\n\")\n",
        "    print(f\"{num1} mod {num2}={mod}\\n\")\n",
        "except ValueError as e:\n",
        "  print(f\"Erro: {e}\")\n",
        "  print(\"O dado digitado não é válido!\")\n",
        "\n"
      ],
      "metadata": {
        "colab": {
          "base_uri": "https://localhost:8080/"
        },
        "id": "Byyd_Xlht1YN",
        "outputId": "68b36674-bbc1-48fc-df86-28bdba24b509"
      },
      "execution_count": null,
      "outputs": [
        {
          "output_type": "stream",
          "name": "stdout",
          "text": [
            "DIVISÃO E MOD DE NÚMEROS INTEIROS\n",
            "\n",
            "\n",
            "\n",
            "Digite o primeiro número: 42\n",
            "\n",
            "\n",
            "Digite o segundo número: 38\n",
            "\n",
            "\n",
            "42 div 38=1\n",
            "\n",
            "42 mod 38=4\n",
            "\n"
          ]
        }
      ]
    },
    {
      "cell_type": "code",
      "source": [
        "print(\"PRIMOS EM UM INTERVALO DE NÚMEROS INTEIROS\\n\")\n",
        "print(\"\\n\")\n",
        "try:\n",
        "  listap=[]\n",
        "  num1 = int(input(\"Digite o primeiro número: \"))\n",
        "  print(\"\\n\")\n",
        "  num2 = int(input(\"Digite o segundo número: \"))\n",
        "  print(\"\\n\")\n",
        "  if(num1<0 or num2<0 or (num1==0 and num2==0)):\n",
        "    raise ValueError(\"Os números não podem ser negativos ou iguais a zero\")\n",
        "  elif (num1>num2):\n",
        "    maior=num1\n",
        "    menor=num2\n",
        "  else:\n",
        "    maior=num2\n",
        "    menor=num1\n",
        "    for i in range(menor,maior+1):\n",
        "      if i>1:\n",
        "        for j in range(2,i):\n",
        "          if (i%j==0):\n",
        "            break\n",
        "        else:\n",
        "          listap.append(i)\n",
        "\n",
        "  listap_novo=\", \".join(map(str, listap)) #converte listap para string\n",
        "  print(f\"Os primos entre {menor} e {maior} são: {listap_novo}\")\n",
        "\n",
        "except ValueError as e:\n",
        "  print(f\"Erro: {e}\")\n",
        "  print(\"O dado digitado não é válido!\")"
      ],
      "metadata": {
        "colab": {
          "base_uri": "https://localhost:8080/"
        },
        "id": "RjT9-2Bafz-J",
        "outputId": "c5d253d6-1a26-4aad-a3fe-8f576b0096e7"
      },
      "execution_count": null,
      "outputs": [
        {
          "output_type": "stream",
          "name": "stdout",
          "text": [
            "PRIMOS EM UM INTERVALO DE NÚMEROS INTEIROS\n",
            "\n",
            "\n",
            "\n",
            "Digite o primeiro número: 10\n",
            "\n",
            "\n",
            "Digite o segundo número: 30\n",
            "\n",
            "\n",
            "Os primos entre 10 e 30 são: 11, 13, 17, 19, 23, 29\n"
          ]
        }
      ]
    }
  ]
}